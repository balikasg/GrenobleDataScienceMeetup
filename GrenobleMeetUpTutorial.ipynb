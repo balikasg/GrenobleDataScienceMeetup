{
 "cells": [
  {
   "cell_type": "markdown",
   "metadata": {},
   "source": [
    "# Grenoble Data Science Meet-up\n",
    "## An (intermediate) tutorial on (flat) text classification using scikit-learn"
   ]
  },
  {
   "cell_type": "markdown",
   "metadata": {},
   "source": [
    "The main goals of the tutorial are to investigate the following:\n",
    "- Text loading, cleaning and encoding issues\n",
    "- Text vectorization using either counts or a hashing function + weighting schemes\n",
    "- Validation using hold out or k-fold cross validation\n",
    "- Performance evaluation using several families of classifiers (trees, svms, logistic regression, naive bayes)\n",
    "- Grid search to fine tune the above systems."
   ]
  },
  {
   "cell_type": "markdown",
   "metadata": {},
   "source": [
    "## Data loading.\n",
    "We live in a multi-lingual world. Unicode is our tool to handle languages/symbols etc."
   ]
  },
  {
   "cell_type": "code",
   "execution_count": 1,
   "metadata": {
    "collapsed": false
   },
   "outputs": [],
   "source": [
    "#Load the data\n",
    "raw_data = codecs.open('/home/balikasg/wikipediaData/data.meeptup.txt', 'r', encoding='utf8').read().splitlines() #Use codecs for handling noo-ASCII characters etc..\n",
    "labels = codecs.open('/home/balikasg/wikipediaData/labels.meeptup.txt', 'r', encoding='utf8').read().splitlines() #Here codecs is not necessary\n",
    "labels = [int(x.split(';')[2]) for x in labels] # From the labels, take only the leaf class, i.e., flat approach"
   ]
  },
  {
   "cell_type": "markdown",
   "metadata": {},
   "source": [
    "### Exploratory Analysis\n",
    "We calculate and plot some of the aspects of our data.\n"
   ]
  },
  {
   "cell_type": "code",
   "execution_count": 2,
   "metadata": {
    "collapsed": false
   },
   "outputs": [
    {
     "name": "stdout",
     "output_type": "stream",
     "text": [
      "Number of Documents: 2825\n",
      "Average length of docs.: 95.105840708\n",
      "Different classes: 170\n"
     ]
    },
    {
     "data": {
      "text/plain": [
       "<matplotlib.text.Text at 0x58e96d0>"
      ]
     },
     "execution_count": 2,
     "metadata": {},
     "output_type": "execute_result"
    },
    {
     "data": {
      "image/png": "[encoded data removed]",
      "text/plain": [
       "<matplotlib.figure.Figure at 0x7fac5cd21850>"
      ]
     },
     "metadata": {},
     "output_type": "display_data"
    }
   ],
   "source": [
    "from collections import Counter\n",
    "import matplotlib.pyplot as plt\n",
    "%matplotlib inline\n",
    "\n",
    "print \"Number of Documents:\", len(raw_data)\n",
    "print \"Average length of docs.:\", sum([len(x.split()) for x in raw_data])/float(len(raw_data))\n",
    "print \"Different classes:\", len(set(labels))\n",
    "\n",
    "# print \"Instances per class:\", Counter(labels)\n",
    "plt.hist(Counter(labels).values(), bins=np.arange(0, 215, 10), color='r', alpha=0.4)\n",
    "plt.grid()\n",
    "plt.title(\"Category system description: instances/class\")\n",
    "plt.xlabel(\"Train Instances\")\n",
    "plt.ylabel(\"Number of Classes\")\n"
   ]
  },
  {
   "cell_type": "markdown",
   "metadata": {},
   "source": [
    "## Vectorization\n",
    "Given text spans to be classified, the goals of the the step are the following:\n",
    "+ load the data,\n",
    "+ clean and preprocess them,\n",
    "+ tokenize them, and\n",
    "+ generate a vocabulary of n-grams and output the sparse vector matrix"
   ]
  },
  {
   "cell_type": "code",
   "execution_count": 3,
   "metadata": {
    "collapsed": false
   },
   "outputs": [
    {
     "name": "stdout",
     "output_type": "stream",
     "text": [
      "Original string: I want to learn text classification with Python.\n",
      "Preprocess: i want to learn text classification with python.\n",
      "Tokenizer: ['want', 'to', 'learn', 'text', 'classification', 'with', 'Python']\n",
      "Analyzer: [u'want', u'to', u'learn', u'text', u'classification', u'with', u'python']\n"
     ]
    }
   ],
   "source": [
    "from sklearn.feature_extraction.text import CountVectorizer, TfidfTransformer, HashingVectorizer, TfidfVectorizer\n",
    "\n",
    "# Define an example string to demnostrate the different steps of vectorization\n",
    "string = \"I want to learn text classification with Python.\"\n",
    "\n",
    "my_vec = CountVectorizer(ngram_range=(1,1)) #http://scikit-learn.org/stable/modules/generated/sklearn.feature_extraction.text.CountVectorizer.html\n",
    "print \"Original string:\", string\n",
    "print \"Preprocess:\", my_vec.build_preprocessor()(string)\n",
    "print \"Tokenizer:\", my_vec.build_tokenizer()(string)\n",
    "print \"Analyzer:\", my_vec.build_analyzer()(string)\n",
    "#Hint: why \"I\" does not appear? (token_pattern='(?u)\\b\\w\\w+\\b')"
   ]
  },
  {
   "cell_type": "markdown",
   "metadata": {},
   "source": [
    "## Feature selection and transformation\n",
    "The goal here it to select the most prominent features and/or apply a weighting scheme that will put emphasis on the some of them, just using the frequencies of their occurrence in the corpus. \n",
    "+ max_df = 1\n",
    "+ min_df = 1\n",
    "+ max_features = None\n",
    "\n",
    "The above-meantioned are hyper-parameters to be tuned. "
   ]
  },
  {
   "cell_type": "code",
   "execution_count": 4,
   "metadata": {
    "collapsed": false
   },
   "outputs": [],
   "source": [
    "from sklearn import  cross_validation, preprocessing\n",
    "import scipy.sparse as sp\n",
    "\n",
    "#Split the raw data in train/test. Use test *only* for testing. We will use this in the next cell.\n",
    "x_train_raw, x_test_raw, y_train, y_test = cross_validation.train_test_split(raw_data, labels, train_size=0.75,random_state=123)"
   ]
  },
  {
   "cell_type": "markdown",
   "metadata": {},
   "source": [
    "## Learning\n",
    "At this point the data have been projected to a vector space (i.e., each instance is a vector). This is a suitable data representation, that can be consequently fed in learning algorithm. Before that though, split..\n",
    "\n",
    "Machine learning algorithms must be evaluated on *unseen* data, that is data not belonging to the train data. The most straighforward approach is to split the data on train/test parts, and learn/evaluate the algorithm on the respective part. "
   ]
  },
  {
   "cell_type": "code",
   "execution_count": 5,
   "metadata": {
    "collapsed": false
   },
   "outputs": [
    {
     "name": "stdout",
     "output_type": "stream",
     "text": [
      "19228\n"
     ]
    }
   ],
   "source": [
    "#We will evaluate several representations. Hence, we make a dictionary that will keep the train/test data for each representation\n",
    "my_representations = list()\n",
    "for name, vectorizer in zip(['tf', 'hashing', 'tfidf', ],[CountVectorizer(ngram_range=(1,1)), HashingVectorizer(n_features=10000, non_negative=True), TfidfVectorizer()]):\n",
    "    vectorizer.fit(x_train_raw)\n",
    "    my_representations.append({\"name\":name, \"x_train\":vectorizer.transform(x_train_raw), \"x_test\":vectorizer.transform(x_test_raw)})\n",
    "    if name == 'tf':\n",
    "        print len(vectorizer.vocabulary_)"
   ]
  },
  {
   "cell_type": "markdown",
   "metadata": {},
   "source": [
    "Scikit-learn offers access to a plethora of classifiers with the same API calls. In short, one must call the \"fit\" methods to learn the model's parameters and \"predict\" to get the predictions for data instances. Here is a non-exhaustive list of classifiers we will benchmark for our multi-class problem.\n",
    "+ Naive bayes \n",
    "+ Logistic Regression\n",
    "+ Support Vector Machines with linear kernel\n",
    "+ Random Forests"
   ]
  },
  {
   "cell_type": "code",
   "execution_count": 6,
   "metadata": {
    "collapsed": false
   },
   "outputs": [
    {
     "name": "stdout",
     "output_type": "stream",
     "text": [
      "\tRepresentation: tf\n",
      "LR:\tAccuracy: 0.634\tF1 macro: 0.353\n",
      "SVM:\tAccuracy: 0.651\tF1 macro: 0.390\n",
      "5-NN:\tAccuracy: 0.471\tF1 macro: 0.233\n",
      "Rochio:\tAccuracy: 0.330\tF1 macro: 0.196\n",
      "N.B.:\tAccuracy: 0.390\tF1 macro: 0.113\n",
      "----------------\n",
      "\tRepresentation: hashing\n",
      "LR:\tAccuracy: 0.463\tF1 macro: 0.170\n",
      "SVM:\tAccuracy: 0.644\tF1 macro: 0.345\n",
      "5-NN:\tAccuracy: 0.516\tF1 macro: 0.257\n",
      "Rochio:\tAccuracy: 0.516\tF1 macro: 0.320\n",
      "N.B.:\tAccuracy: 0.242\tF1 macro: 0.027\n",
      "----------------\n",
      "\tRepresentation: tfidf\n",
      "LR:\tAccuracy: 0.515\tF1 macro: 0.202\n",
      "SVM:\tAccuracy: 0.676\tF1 macro: 0.457\n",
      "5-NN:\tAccuracy: 0.595\tF1 macro: 0.343\n",
      "Rochio:\tAccuracy: 0.628\tF1 macro: 0.394\n",
      "N.B.:\tAccuracy: 0.303\tF1 macro: 0.054\n",
      "----------------\n"
     ]
    },
    {
     "name": "stderr",
     "output_type": "stream",
     "text": [
      "/home/balikasg/anaconda/lib/python2.7/site-packages/sklearn/metrics/classification.py:958: UndefinedMetricWarning: F-score is ill-defined and being set to 0.0 in labels with no predicted samples.\n",
      "  'precision', 'predicted', average, warn_for)\n",
      "/home/balikasg/anaconda/lib/python2.7/site-packages/sklearn/metrics/classification.py:960: UndefinedMetricWarning: F-score is ill-defined and being set to 0.0 in labels with no true samples.\n",
      "  'recall', 'true', average, warn_for)\n"
     ]
    }
   ],
   "source": [
    "from sklearn import naive_bayes, linear_model, svm, ensemble, neighbors, metrics\n",
    "\n",
    "# Set hyper-parameters, for controlling algorithm\n",
    "learners = [{\"name\":\"LR\", \"model\":linear_model.LogisticRegression(C=1)}, \n",
    "            {\"name\":\"SVM\", \"model\":svm.LinearSVC(C=1)}, \n",
    "            {\"name\":\"5-NN\", \"model\":neighbors.KNeighborsClassifier(n_neighbors=5)}, \n",
    "            {\"name\":\"Rochio\", \"model\":neighbors.NearestCentroid()}, \n",
    "            {\"name\":\"N.B.\", \"model\":naive_bayes.MultinomialNB(alpha=1)}]\n",
    "\n",
    "# Loop and test the performance of each of the above learners\n",
    "for representation in my_representations:\n",
    "    print \"\\tRepresentation:\", representation[\"name\"]\n",
    "    for learner in learners:\n",
    "        learner['model'].fit(representation[\"x_train\"], y_train)\n",
    "        preds = learner['model'].predict(representation[\"x_test\"])\n",
    "        print \"%s:\\tAccuracy: %0.3f\\tF1 macro: %0.3f\"%(learner['name'], metrics.accuracy_score(y_test, preds), metrics.f1_score(y_test, preds, average='macro')) \n",
    "    print \"----------------\"\n",
    "\n",
    "    \n",
    "# Maybe: Make a comment on performance evaluation using cv    "
   ]
  },
  {
   "cell_type": "markdown",
   "metadata": {},
   "source": [
    "## Optimizing with GridSearch\n",
    "Learning algorithms, vectorization and weighting schemes ect. usually come with hyper-parameters i.e., parameters with default values that have to be tuned in order to obtain optimal performance. k-fold cross validation in conjunction with grid search is probably the most common way of tuning such parameters. Note, that is can become very cpu/memory expensive for large problems, that is problems with many features or many instances or both.  "
   ]
  },
  {
   "cell_type": "code",
   "execution_count": 7,
   "metadata": {
    "collapsed": false
   },
   "outputs": [
    {
     "name": "stderr",
     "output_type": "stream",
     "text": [
      "/home/balikasg/anaconda/lib/python2.7/site-packages/sklearn/cross_validation.py:417: Warning: The least populated class in y has only 1 members, which is too few. The minimum number of labels for any class cannot be less than n_folds=5.\n",
      "  % (min_labels, self.n_folds)), Warning)\n"
     ]
    },
    {
     "name": "stdout",
     "output_type": "stream",
     "text": [
      "Tuned SVM on accuracy (C=10.00): 0.700141442716\n"
     ]
    },
    {
     "name": "stderr",
     "output_type": "stream",
     "text": [
      "/home/balikasg/anaconda/lib/python2.7/site-packages/sklearn/grid_search.py:370: ChangedBehaviorWarning: The long-standing behavior to use the estimator's score function in GridSearchCV.score has changed. The scoring parameter is now used.\n",
      "  ChangedBehaviorWarning)\n"
     ]
    },
    {
     "name": "stdout",
     "output_type": "stream",
     "text": [
      "Tuned SVM on f1_macro (C=10.00): 0.487716569715\n"
     ]
    }
   ],
   "source": [
    "from sklearn import grid_search #http://scikit-learn.org/stable/modules/generated/sklearn.grid_search.GridSearchCV.html\n",
    "\n",
    "# We will tune the C value of SVMs to optimize first accuracy and the f1_macro\n",
    "for eval_meas in [\"accuracy\", \"f1_macro\"]:\n",
    "    clf = grid_search.GridSearchCV(svm.LinearSVC(), param_grid={\"C\":[0.01, 0.1, 1, 10, 100]}, n_jobs=3, scoring=eval_meas, refit=True, cv=5)\n",
    "    clf.fit(my_representations[2][\"x_train\"], y_train) # Note that GridSearchCV is itself an estimator\n",
    "    print \"Tuned SVM on %s (C=%0.2f):\"%(eval_meas, clf.best_params_['C']), clf.score(my_representations[2][\"x_test\"], y_test)\n"
   ]
  },
  {
   "cell_type": "markdown",
   "metadata": {},
   "source": [
    "### Transformations (cont.)\n",
    "There are several feature transformations and weighting schemes proposed. Inspired by the presentation on our cDiscount participation, we demonstrate here the a_power tranformation on the tf-idf scheme with SVMs, that performed the best above."
   ]
  },
  {
   "cell_type": "code",
   "execution_count": 21,
   "metadata": {
    "collapsed": true
   },
   "outputs": [],
   "source": [
    "#Define a new tranformation: element-wise a_power\n",
    "from sklearn.base import BaseEstimator, TransformerMixin\n",
    "class A_PowerTransformer(BaseEstimator, TransformerMixin):\n",
    "    \"\"\"Transform document representations by element-wise exponentiation\n",
    "        x=(b,c,...,d) -> x'=(b^a, c^a,...,d^a)\n",
    "        If norm='l2' return normalised data.\n",
    "    \"\"\"\n",
    "    def __init__(self, norm='l2', a_power=0.5):\n",
    "        self.norm = norm\n",
    "        self.a_power=a_power\n",
    "    def fit(self, X, y=None):\n",
    "        return self\n",
    "    \n",
    "    def transform(self, X, copy=True):\n",
    "        X = sp.csr_matrix(X, dtype=np.float64, copy=copy)\n",
    "        X.data **= self.a_power\n",
    "        if self.norm == 'l2':\n",
    "            X = preprocessing.normalize(X, norm=self.norm, copy=False)\n",
    "        return X\n"
   ]
  },
  {
   "cell_type": "code",
   "execution_count": 28,
   "metadata": {
    "collapsed": false
   },
   "outputs": [
    {
     "name": "stdout",
     "output_type": "stream",
     "text": [
      "0.710042432815\n",
      "{'C': 100}\n"
     ]
    }
   ],
   "source": [
    "# Test the application of the tranformer\n",
    "my_transfomer = A_PowerTransformer()\n",
    "Xt_train = my_transfomer.transform(my_representations[2][\"x_train\"])\n",
    "Xt_test  = my_transfomer.transform(my_representations[2][\"x_test\"])\n",
    "clf = grid_search.GridSearchCV(svm.LinearSVC(), param_grid={\"C\":[0.01, 0.1, 1, 10, 100]}, n_jobs=3, scoring='accuracy', refit=True, cv=5)\n",
    "clf.fit(Xt_train, y_train) \n",
    "print metrics.accuracy_score(y_test, clf.predict(Xt_test))\n",
    "print clf.best_params_"
   ]
  },
  {
   "cell_type": "markdown",
   "metadata": {},
   "source": [
    "### Recap\n",
    "We have investigated basic directions. In particular:\n",
    "\n",
    "- Text vectorization strategies\n",
    "- Tuning using stratified k-fold cross validation\n",
    "- Application of different classifiers using the Sklearn API (fit/transform)\n",
    "- Evaluation using different metrics"
   ]
  },
  {
   "cell_type": "code",
   "execution_count": 32,
   "metadata": {
    "collapsed": false
   },
   "outputs": [
    {
     "name": "stdout",
     "output_type": "stream",
     "text": [
      "0.711456859972\n",
      "{'powerTransformer__a_power': 0.6, 'vectorize__ngram_range': (1, 2), 'mySvm__C': 100}\n"
     ]
    }
   ],
   "source": [
    "from sklearn.pipeline import Pipeline\n",
    "\n",
    "# Define a sequence of steps...\n",
    "estimators = [('vectorize', CountVectorizer()), (\"powerTransformer\", A_PowerTransformer()),  ('mySvm', svm.LinearSVC())]\n",
    "clf = Pipeline(estimators) # .. group them with a Pipeline ..\n",
    "params = dict(vectorize__ngram_range=[(1,1), (1,2)], powerTransformer__a_power=[0.3, 0.4, 0.5, 0.6], mySvm__C=[0.1, 1, 10, 100]) # .. set look-up parameters..\n",
    "# Hint: we have just defined 32 parameter groups, i.e., 32 x 5 cross-validation problems, which is quite big.\n",
    "tuned_clf = grid_search.GridSearchCV(clf, param_grid=params, n_jobs=3, refit=True, cv=5, ).fit(x_train_raw, y_train) # .. greed search optimize the whole pipeline\n",
    "\n",
    "print  metrics.accuracy_score(y_test, tuned_clf.predict(x_test_raw))\n",
    "print tuned_clf.best_params_\n"
   ]
  }
 ],
 "metadata": {
  "kernelspec": {
   "display_name": "Python 2",
   "language": "python",
   "name": "python2"
  },
  "language_info": {
   "codemirror_mode": {
    "name": "ipython",
    "version": 2
   },
   "file_extension": ".py",
   "mimetype": "text/x-python",
   "name": "python",
   "nbconvert_exporter": "python",
   "pygments_lexer": "ipython2",
   "version": "2.7.5"
  }
 },
 "nbformat": 4,
 "nbformat_minor": 0
}
